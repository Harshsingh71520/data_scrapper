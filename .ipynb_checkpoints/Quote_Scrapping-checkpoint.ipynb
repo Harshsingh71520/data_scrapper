{
 "cells": [
  {
   "cell_type": "code",
   "execution_count": 37,
   "id": "29113c46-9038-47da-9b91-c77c3698a87c",
   "metadata": {},
   "outputs": [],
   "source": [
    "from bs4 import BeautifulSoup"
   ]
  },
  {
   "cell_type": "code",
   "execution_count": 38,
   "id": "31a68af7-e2bb-4974-8ebf-4f971d5facb3",
   "metadata": {},
   "outputs": [],
   "source": [
    "with open(\"Quote_Scrapping/page1.html\") as f:\n",
    "    content=f.read()\n",
    "    "
   ]
  },
  {
   "cell_type": "code",
   "execution_count": 39,
   "id": "3bfcb081-50fe-449d-bb83-cc2fd7533afc",
   "metadata": {},
   "outputs": [],
   "source": [
    "soup=BeautifulSoup(content,\"html.parser\")"
   ]
  },
  {
   "cell_type": "code",
   "execution_count": 40,
   "id": "942f0dae-fd1f-4745-b8c6-710adf76d089",
   "metadata": {},
   "outputs": [],
   "source": [
    "# itemprop= soup.find_all(\"span\")"
   ]
  },
  {
   "cell_type": "code",
   "execution_count": 41,
   "id": "98d5be27-dc68-4c98-9184-f05e82c3ced6",
   "metadata": {},
   "outputs": [],
   "source": [
    "articles=soup.select(\"div.col-md-8\")"
   ]
  },
  {
   "cell_type": "code",
   "execution_count": 42,
   "id": "5cb307a1-f8f3-4632-978a-7af07535c42d",
   "metadata": {},
   "outputs": [],
   "source": [
    "for div in articles:\n",
    "    title=div.select_one(\"span\")[\"itemprop\"]\n",
    "    \n",
    "    #print(title)"
   ]
  },
  {
   "cell_type": "code",
   "execution_count": null,
   "id": "f5b0718b-b0c6-486f-96c5-696e039343a8",
   "metadata": {},
   "outputs": [],
   "source": []
  }
 ],
 "metadata": {
  "kernelspec": {
   "display_name": "Python 3 (ipykernel)",
   "language": "python",
   "name": "python3"
  },
  "language_info": {
   "codemirror_mode": {
    "name": "ipython",
    "version": 3
   },
   "file_extension": ".py",
   "mimetype": "text/x-python",
   "name": "python",
   "nbconvert_exporter": "python",
   "pygments_lexer": "ipython3",
   "version": "3.12.7"
  }
 },
 "nbformat": 4,
 "nbformat_minor": 5
}
