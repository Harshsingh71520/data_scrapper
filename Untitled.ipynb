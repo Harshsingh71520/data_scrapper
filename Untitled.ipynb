{
 "cells": [
  {
   "cell_type": "code",
   "execution_count": 14,
   "id": "e8308dbe-f4b5-45d8-8201-7373d8710e73",
   "metadata": {},
   "outputs": [],
   "source": [
    "from bs4 import BeautifulSoup"
   ]
  },
  {
   "cell_type": "code",
   "execution_count": 15,
   "id": "e06d0e21-6d74-4fbd-b96e-0ea100440636",
   "metadata": {},
   "outputs": [],
   "source": [
    "for i in range(1, 51):  # Example: pages 1 to 50\n",
    "    Scrapping = f\"page{1}.html\"\n",
    "    \n",
    "    # if not os.path.exists(Scrapping):\n",
    "    #     break"
   ]
  },
  {
   "cell_type": "code",
   "execution_count": 16,
   "id": "c7162388-eb37-46a6-a76c-a5a44aef3326",
   "metadata": {},
   "outputs": [],
   "source": [
    "with open(\"Scrapping/page1.html\") as f:\n",
    "    content=f.read()"
   ]
  },
  {
   "cell_type": "code",
   "execution_count": 17,
   "id": "3c63bb57-375e-4996-b46f-5fc14b6043fe",
   "metadata": {},
   "outputs": [],
   "source": [
    "soup=BeautifulSoup(content,\"html.parser\")"
   ]
  },
  {
   "cell_type": "code",
   "execution_count": 18,
   "id": "08d8ac13-7ca0-4dbe-a2fb-d19244ca1dc1",
   "metadata": {},
   "outputs": [],
   "source": [
    "# with open(file_name, \"r\", encoding=\"utf-8\") as file:\n",
    "#         soup = BeautifulSoup(file, \"html.parser\")\n",
    "\n",
    "#     articles = soup.select(\"article.product_pod\")\n",
    "#     for article in articles:\n",
    "#         title = article.find(\"h3\").find(\"a\")[\"title\"]\n",
    "#         price = article.select_one(\"p.price_color\").text.split(\"£\")[1]\n",
    "#         rating_element = article.select_one(\"p.star-rating\")\n",
    "#         rating = rating_element[\"class\"][1]\n",
    "#         details.append([title, price, rating])\n",
    "\n",
    "#     print(f\"Scraped {file_name} with {len(articles)} books.\")\n",
    "\n",
    "# print(f\"\\nTotal books scraped: {len(details)}\")"
   ]
  },
  {
   "cell_type": "code",
   "execution_count": 19,
   "id": "2b644415-92c5-490f-871a-b8d31fc6f4e2",
   "metadata": {},
   "outputs": [],
   "source": [
    "articles= soup.select(\"article.product_pod\")"
   ]
  },
  {
   "cell_type": "code",
   "execution_count": 20,
   "id": "ad6f616c-ded9-424a-a12f-65199430409c",
   "metadata": {},
   "outputs": [],
   "source": [
    "details=[]\n",
    "for article in articles:\n",
    "    title= article.find(\"h3\").find(\"a\")[\"title\"]\n",
    "    price= article.select_one(\"p.price_color\").text.split(\"£\")[1]\n",
    "    rating_element=article.select_one(\"p.star-rating\")\n",
    "    rating=rating_element[\"class\"][1]\n",
    "    # print (title)\n",
    "    # print(price)\n",
    "    details.append([title,price,rating])"
   ]
  },
  {
   "cell_type": "code",
   "execution_count": 21,
   "id": "46f0d41d-ff2a-4ff8-8f93-fb4d2e97c947",
   "metadata": {},
   "outputs": [
    {
     "data": {
      "text/plain": [
       "[['A Light in the Attic', '51.77', 'Three'],\n",
       " ['Tipping the Velvet', '53.74', 'One'],\n",
       " ['Soumission', '50.10', 'One'],\n",
       " ['Sharp Objects', '47.82', 'Four'],\n",
       " ['Sapiens: A Brief History of Humankind', '54.23', 'Five'],\n",
       " ['The Requiem Red', '22.65', 'One'],\n",
       " ['The Dirty Little Secrets of Getting Your Dream Job', '33.34', 'Four'],\n",
       " ['The Coming Woman: A Novel Based on the Life of the Infamous Feminist, Victoria Woodhull',\n",
       "  '17.93',\n",
       "  'Three'],\n",
       " ['The Boys in the Boat: Nine Americans and Their Epic Quest for Gold at the 1936 Berlin Olympics',\n",
       "  '22.60',\n",
       "  'Four'],\n",
       " ['The Black Maria', '52.15', 'One'],\n",
       " ['Starving Hearts (Triangular Trade Trilogy, #1)', '13.99', 'Two'],\n",
       " [\"Shakespeare's Sonnets\", '20.66', 'Four'],\n",
       " ['Set Me Free', '17.46', 'Five'],\n",
       " [\"Scott Pilgrim's Precious Little Life (Scott Pilgrim #1)\", '52.29', 'Five'],\n",
       " ['Rip it Up and Start Again', '35.02', 'Five'],\n",
       " ['Our Band Could Be Your Life: Scenes from the American Indie Underground, 1981-1991',\n",
       "  '57.25',\n",
       "  'Three'],\n",
       " ['Olio', '23.88', 'One'],\n",
       " ['Mesaerion: The Best Science Fiction Stories 1800-1849', '37.59', 'One'],\n",
       " ['Libertarianism for Beginners', '51.33', 'Two'],\n",
       " [\"It's Only the Himalayas\", '45.17', 'Two']]"
      ]
     },
     "execution_count": 21,
     "metadata": {},
     "output_type": "execute_result"
    }
   ],
   "source": [
    "details\n"
   ]
  },
  {
   "cell_type": "code",
   "execution_count": null,
   "id": "9b420a40-a5e6-4db0-ac17-712d85097d6c",
   "metadata": {},
   "outputs": [],
   "source": []
  }
 ],
 "metadata": {
  "kernelspec": {
   "display_name": "Python 3 (ipykernel)",
   "language": "python",
   "name": "python3"
  },
  "language_info": {
   "codemirror_mode": {
    "name": "ipython",
    "version": 3
   },
   "file_extension": ".py",
   "mimetype": "text/x-python",
   "name": "python",
   "nbconvert_exporter": "python",
   "pygments_lexer": "ipython3",
   "version": "3.12.7"
  }
 },
 "nbformat": 4,
 "nbformat_minor": 5
}
