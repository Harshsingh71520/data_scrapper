{
 "cells": [
  {
   "cell_type": "code",
   "execution_count": 2,
   "id": "c172f26c-773e-4a44-b2e2-56109f60864f",
   "metadata": {},
   "outputs": [
    {
     "name": "stdout",
     "output_type": "stream",
     "text": [
      "Requirement already satisfied: requests in c:\\users\\hsingh\\appdata\\local\\anaconda3\\lib\\site-packages (2.32.3)\n",
      "Requirement already satisfied: charset-normalizer<4,>=2 in c:\\users\\hsingh\\appdata\\local\\anaconda3\\lib\\site-packages (from requests) (3.3.2)\n",
      "Requirement already satisfied: idna<4,>=2.5 in c:\\users\\hsingh\\appdata\\local\\anaconda3\\lib\\site-packages (from requests) (3.7)\n",
      "Requirement already satisfied: urllib3<3,>=1.21.1 in c:\\users\\hsingh\\appdata\\local\\anaconda3\\lib\\site-packages (from requests) (2.2.3)\n",
      "Requirement already satisfied: certifi>=2017.4.17 in c:\\users\\hsingh\\appdata\\local\\anaconda3\\lib\\site-packages (from requests) (2025.4.26)\n",
      "Note: you may need to restart the kernel to use updated packages.\n"
     ]
    }
   ],
   "source": [
    "pip install requests"
   ]
  },
  {
   "cell_type": "code",
   "execution_count": 13,
   "id": "497a9b38-5ed6-4e94-a78a-e8b6e207cb79",
   "metadata": {},
   "outputs": [],
   "source": [
    "import requests"
   ]
  },
  {
   "cell_type": "code",
   "execution_count": 14,
   "id": "a9d47a1c-d0b2-4e96-a244-8317f744ccfc",
   "metadata": {},
   "outputs": [],
   "source": [
    "a= requests.get(\"https://books.toscrape.com/\")\n"
   ]
  },
  {
   "cell_type": "code",
   "execution_count": 19,
   "id": "3a04425f-43e8-40c8-a543-766ceed2584c",
   "metadata": {},
   "outputs": [
    {
     "name": "stdout",
     "output_type": "stream",
     "text": [
      "Downloaded page1 successfully\n",
      "Downloaded page2 successfully\n",
      "Downloaded page3 successfully\n",
      "Downloaded page4 successfully\n",
      "Downloaded page5 successfully\n",
      "Downloaded page6 successfully\n",
      "Downloaded page7 successfully\n",
      "Downloaded page8 successfully\n",
      "Downloaded page9 successfully\n",
      "Downloaded page10 successfully\n",
      "Downloaded page11 successfully\n",
      "Downloaded page12 successfully\n",
      "Downloaded page13 successfully\n",
      "Downloaded page14 successfully\n",
      "Downloaded page15 successfully\n",
      "Downloaded page16 successfully\n",
      "Downloaded page17 successfully\n",
      "Downloaded page18 successfully\n",
      "Downloaded page19 successfully\n",
      "Downloaded page20 successfully\n",
      "Downloaded page21 successfully\n",
      "Downloaded page22 successfully\n",
      "Downloaded page23 successfully\n",
      "Downloaded page24 successfully\n",
      "Downloaded page25 successfully\n",
      "Downloaded page26 successfully\n",
      "Downloaded page27 successfully\n",
      "Downloaded page28 successfully\n",
      "Downloaded page29 successfully\n",
      "Downloaded page30 successfully\n",
      "Downloaded page31 successfully\n",
      "Downloaded page32 successfully\n",
      "Downloaded page33 successfully\n",
      "Downloaded page34 successfully\n",
      "Downloaded page35 successfully\n",
      "Downloaded page36 successfully\n",
      "Downloaded page37 successfully\n",
      "Downloaded page38 successfully\n",
      "Downloaded page39 successfully\n",
      "Downloaded page40 successfully\n",
      "Downloaded page41 successfully\n",
      "Downloaded page42 successfully\n",
      "Downloaded page43 successfully\n",
      "Downloaded page44 successfully\n",
      "Downloaded page45 successfully\n",
      "Downloaded page46 successfully\n",
      "Downloaded page47 successfully\n",
      "Downloaded page48 successfully\n",
      "Downloaded page49 successfully\n",
      "Downloaded page50 successfully\n"
     ]
    }
   ],
   "source": [
    "for i in range(1,51):\n",
    "    a= requests.get(f\"https://books.toscrape.com/catalogue/page-{i}.html\")\n",
    "    with open(f\"Scrapping/page{i}.html\", \"w\", encoding=\"utf-8\") as f:\n",
    "        f.write(a.text)\n",
    "        print(f\"Downloaded page{i} successfully\")"
   ]
  },
  {
   "cell_type": "code",
   "execution_count": 2,
   "id": "f8064492-ffae-44b5-916c-1f88f39c6ba2",
   "metadata": {},
   "outputs": [],
   "source": [
    "from bs4 import BeautifulSoup"
   ]
  },
  {
   "cell_type": "code",
   "execution_count": null,
   "id": "80e39b11-2ac1-4700-9890-3b7187c38bf3",
   "metadata": {},
   "outputs": [],
   "source": [
    "with open(\"Scrapping/page1\")"
   ]
  }
 ],
 "metadata": {
  "kernelspec": {
   "display_name": "Python 3 (ipykernel)",
   "language": "python",
   "name": "python3"
  },
  "language_info": {
   "codemirror_mode": {
    "name": "ipython",
    "version": 3
   },
   "file_extension": ".py",
   "mimetype": "text/x-python",
   "name": "python",
   "nbconvert_exporter": "python",
   "pygments_lexer": "ipython3",
   "version": "3.12.7"
  }
 },
 "nbformat": 4,
 "nbformat_minor": 5
}
