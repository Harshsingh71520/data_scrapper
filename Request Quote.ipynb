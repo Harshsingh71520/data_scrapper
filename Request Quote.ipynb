{
 "cells": [
  {
   "cell_type": "code",
   "execution_count": 3,
   "id": "8933daf5-b6de-4a6d-82e9-02436578089b",
   "metadata": {},
   "outputs": [],
   "source": [
    "import requests"
   ]
  },
  {
   "cell_type": "code",
   "execution_count": 6,
   "id": "106751b7-76c4-424b-b972-500231b72642",
   "metadata": {},
   "outputs": [],
   "source": [
    "a= requests.get(\"https://quotes.toscrape.com/page/1/\")"
   ]
  },
  {
   "cell_type": "code",
   "execution_count": 12,
   "id": "f0eb8c21-aea2-47e4-8ecd-18382deb5e23",
   "metadata": {},
   "outputs": [
    {
     "name": "stdout",
     "output_type": "stream",
     "text": [
      "Downloaded 1 pages successfully\n",
      "Downloaded 2 pages successfully\n",
      "Downloaded 3 pages successfully\n",
      "Downloaded 4 pages successfully\n",
      "Downloaded 5 pages successfully\n",
      "Downloaded 6 pages successfully\n",
      "Downloaded 7 pages successfully\n",
      "Downloaded 8 pages successfully\n",
      "Downloaded 9 pages successfully\n",
      "Downloaded 10 pages successfully\n",
      "Downloaded 11 pages successfully\n",
      "Downloaded 12 pages successfully\n",
      "Downloaded 13 pages successfully\n",
      "Downloaded 14 pages successfully\n",
      "Downloaded 15 pages successfully\n",
      "Downloaded 16 pages successfully\n",
      "Downloaded 17 pages successfully\n",
      "Downloaded 18 pages successfully\n",
      "Downloaded 19 pages successfully\n",
      "Downloaded 20 pages successfully\n",
      "Downloaded 21 pages successfully\n",
      "Downloaded 22 pages successfully\n",
      "Downloaded 23 pages successfully\n",
      "Downloaded 24 pages successfully\n",
      "Downloaded 25 pages successfully\n",
      "Downloaded 26 pages successfully\n",
      "Downloaded 27 pages successfully\n",
      "Downloaded 28 pages successfully\n",
      "Downloaded 29 pages successfully\n",
      "Downloaded 30 pages successfully\n",
      "Downloaded 31 pages successfully\n",
      "Downloaded 32 pages successfully\n",
      "Downloaded 33 pages successfully\n",
      "Downloaded 34 pages successfully\n",
      "Downloaded 35 pages successfully\n",
      "Downloaded 36 pages successfully\n",
      "Downloaded 37 pages successfully\n",
      "Downloaded 38 pages successfully\n",
      "Downloaded 39 pages successfully\n",
      "Downloaded 40 pages successfully\n",
      "Downloaded 41 pages successfully\n",
      "Downloaded 42 pages successfully\n",
      "Downloaded 43 pages successfully\n",
      "Downloaded 44 pages successfully\n",
      "Downloaded 45 pages successfully\n",
      "Downloaded 46 pages successfully\n",
      "Downloaded 47 pages successfully\n",
      "Downloaded 48 pages successfully\n",
      "Downloaded 49 pages successfully\n",
      "Downloaded 50 pages successfully\n"
     ]
    }
   ],
   "source": [
    "for i in range(1,51):\n",
    "    a=requests.get(f\"https://quotes.toscrape.com/page/{i}/.html\")\n",
    "    with open(f\"Quote_Scrapping/page{i}.html\",\"w\",encoding=\"utf-8\") as f:\n",
    "        f.write(a.text)\n",
    "        print(f\"Downloaded {i} pages successfully\")\n",
    "        \n",
    "        \n",
    "    \n",
    "\n"
   ]
  },
  {
   "cell_type": "code",
   "execution_count": 14,
   "id": "94c40bee-2fbc-46fc-b054-ea33af5587e4",
   "metadata": {},
   "outputs": [],
   "source": [
    "from bs4 import BeautifulSoup"
   ]
  },
  {
   "cell_type": "code",
   "execution_count": 20,
   "id": "aa521c20-a1e6-4437-aa9d-db212d7053ca",
   "metadata": {},
   "outputs": [],
   "source": [
    "with open(\"Quote_Scrapping/page1.html\") as f:\n",
    "    content=f.read()"
   ]
  },
  {
   "cell_type": "code",
   "execution_count": 21,
   "id": "ea1f398a-0f6d-471e-b5e8-333dfb921dd8",
   "metadata": {},
   "outputs": [],
   "source": [
    "soup=BeautifulSoup(content,\"html.parser\")"
   ]
  },
  {
   "cell_type": "code",
   "execution_count": 26,
   "id": "14d23aa5-7c91-4dc4-afec-1c32dd520904",
   "metadata": {},
   "outputs": [],
   "source": [
    "itemprop=soup.find_all(\"itemprop\")"
   ]
  },
  {
   "cell_type": "code",
   "execution_count": 27,
   "id": "78fef233-2971-4290-abff-eda511c714ce",
   "metadata": {},
   "outputs": [
    {
     "data": {
      "text/plain": [
       "[]"
      ]
     },
     "execution_count": 27,
     "metadata": {},
     "output_type": "execute_result"
    }
   ],
   "source": [
    "itemprop"
   ]
  },
  {
   "cell_type": "code",
   "execution_count": null,
   "id": "eebbc6a3-4ce4-46d7-9a79-e26902d052f3",
   "metadata": {},
   "outputs": [],
   "source": []
  }
 ],
 "metadata": {
  "kernelspec": {
   "display_name": "Python 3 (ipykernel)",
   "language": "python",
   "name": "python3"
  },
  "language_info": {
   "codemirror_mode": {
    "name": "ipython",
    "version": 3
   },
   "file_extension": ".py",
   "mimetype": "text/x-python",
   "name": "python",
   "nbconvert_exporter": "python",
   "pygments_lexer": "ipython3",
   "version": "3.12.7"
  }
 },
 "nbformat": 4,
 "nbformat_minor": 5
}
